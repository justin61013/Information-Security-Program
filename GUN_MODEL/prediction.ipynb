{
 "cells": [
  {
   "cell_type": "code",
   "execution_count": 1,
   "metadata": {},
   "outputs": [
    {
     "name": "stdout",
     "output_type": "stream",
     "text": [
      "0\n",
      "判為假臉\n"
     ]
    }
   ],
   "source": [
    "from detect_from_video import test_image_network\n",
    "\n",
    "image_path = r\"C:\\Thesis\\Dora\\Dataset\\LAB_dataset\\crop1\\fake\\video_21frame_0.jpg\"\n",
    "prediction = test_image_network(image_path, cuda=True)\n",
    "print(prediction)\n",
    "if(prediction == 0):\n",
    "    print(\"判為假臉\")\n",
    "else:\n",
    "    print(\"判為真臉\")"
   ]
  }
 ],
 "metadata": {
  "interpreter": {
   "hash": "2dace25458266fbdcb37176885865dbe2f2261d62ad2ad9e373c6154eef51921"
  },
  "kernelspec": {
   "display_name": "Python 3.9.2 64-bit ('gun': conda)",
   "language": "python",
   "name": "python3"
  },
  "language_info": {
   "codemirror_mode": {
    "name": "ipython",
    "version": 3
   },
   "file_extension": ".py",
   "mimetype": "text/x-python",
   "name": "python",
   "nbconvert_exporter": "python",
   "pygments_lexer": "ipython3",
   "version": "3.9.2"
  },
  "orig_nbformat": 4
 },
 "nbformat": 4,
 "nbformat_minor": 2
}
